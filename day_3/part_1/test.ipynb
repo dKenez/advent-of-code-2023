{
 "cells": [
  {
   "cell_type": "code",
   "execution_count": 38,
   "metadata": {},
   "outputs": [],
   "source": [
    "import string\n",
    "from collections import deque\n",
    "from pathlib import Path"
   ]
  },
  {
   "cell_type": "code",
   "execution_count": 39,
   "metadata": {},
   "outputs": [
    {
     "data": {
      "text/plain": [
       "PosixPath('/home/dkeni/Projects/advent-of-code/day_3/part_1')"
      ]
     },
     "execution_count": 39,
     "metadata": {},
     "output_type": "execute_result"
    }
   ],
   "source": [
    "base_path = Path().parent\n",
    "base_path.absolute()"
   ]
  },
  {
   "cell_type": "code",
   "execution_count": 40,
   "metadata": {},
   "outputs": [],
   "source": [
    "def process_line(q: deque[str]):\n",
    "    prev_line, curr_line, next_line = q\n",
    "\n",
    "\n",
    "\n",
    "    print(prev_line, end=\"\")\n",
    "    print(curr_line, end=\"\")\n",
    "    print(next_line, end=\"\\n\")"
   ]
  },
  {
   "cell_type": "code",
   "execution_count": 41,
   "metadata": {},
   "outputs": [
    {
     "data": {
      "text/plain": [
       "'467..114..\\n...s......\\n..35..633.\\n......s...\\n617s......\\n.....s.58.\\n..592.....\\n......755.\\n...s.s....\\n.664.598..'"
      ]
     },
     "execution_count": 41,
     "metadata": {},
     "output_type": "execute_result"
    }
   ],
   "source": [
    "def convert_symbols(line: str) -> str:\n",
    "    ret_line = \"\"\n",
    "    for c in line:\n",
    "        if c != \".\" and c in string.punctuation:\n",
    "            ret_line += \"s\"\n",
    "        else:\n",
    "            ret_line += c\n",
    "\n",
    "    return ret_line\n",
    "\n",
    "convert_symbols(\"\"\"467..114..\n",
    "...*......\n",
    "..35..633.\n",
    "......#...\n",
    "617*......\n",
    ".....+.58.\n",
    "..592.....\n",
    "......755.\n",
    "...$.*....\n",
    ".664.598..\"\"\")"
   ]
  },
  {
   "cell_type": "code",
   "execution_count": 42,
   "metadata": {},
   "outputs": [],
   "source": [
    "def calc_file(file_path: Path) -> int:\n",
    "    parts_sum = 0\n",
    "\n",
    "    with open(file_path, \"r\") as f:\n",
    "        line_count = sum(1 for _ in f)\n",
    "        f.seek(0)\n",
    "\n",
    "        first_line = f.readline()\n",
    "        zero_padding = \".\" * len(first_line[:-1]) + \"\\n\"\n",
    "\n",
    "        q = deque[str](maxlen=3)\n",
    "        q.append(zero_padding)\n",
    "        q.append(convert_symbols(first_line))\n",
    "\n",
    "        for line in f:\n",
    "            q.append(convert_symbols(line))\n",
    "            process_line(q)\n",
    "\n",
    "        q.append(zero_padding)\n",
    "        process_line(q)\n",
    "\n",
    "    return parts_sum"
   ]
  },
  {
   "cell_type": "code",
   "execution_count": 43,
   "metadata": {},
   "outputs": [
    {
     "name": "stdout",
     "output_type": "stream",
     "text": [
      "..........\n",
      "467..114..\n",
      "...s......\n",
      "\n",
      "467..114..\n",
      "...s......\n",
      "..35..633.\n",
      "\n",
      "...s......\n",
      "..35..633.\n",
      "......s...\n",
      "\n",
      "..35..633.\n",
      "......s...\n",
      "617s......\n",
      "\n",
      "......s...\n",
      "617s......\n",
      ".....s.58.\n",
      "\n",
      "617s......\n",
      ".....s.58.\n",
      "..592.....\n",
      "\n",
      ".....s.58.\n",
      "..592.....\n",
      "......755.\n",
      "\n",
      "..592.....\n",
      "......755.\n",
      "...s.s....\n",
      "\n",
      "......755.\n",
      "...s.s....\n",
      ".664.598..\n",
      "\n",
      "...s.s....\n",
      ".664.598..\n",
      "..........\n",
      "\n",
      "0\n"
     ]
    }
   ],
   "source": [
    "print(calc_file(base_path / \"example.txt\"))"
   ]
  },
  {
   "cell_type": "code",
   "execution_count": 60,
   "metadata": {},
   "outputs": [
    {
     "data": {
      "text/plain": [
       "PosixPath('/home/dkeni/Projects/advent-of-code/day_3')"
      ]
     },
     "execution_count": 60,
     "metadata": {},
     "output_type": "execute_result"
    }
   ],
   "source": [
    "base_path.absolute().parent"
   ]
  },
  {
   "cell_type": "code",
   "execution_count": 50,
   "metadata": {},
   "outputs": [
    {
     "ename": "IndexError",
     "evalue": "1",
     "output_type": "error",
     "traceback": [
      "\u001b[0;31m---------------------------------------------------------------------------\u001b[0m",
      "\u001b[0;31mIndexError\u001b[0m                                Traceback (most recent call last)",
      "\u001b[1;32m/home/dkeni/Projects/advent-of-code/day_3/part_1/test.ipynb Cell 7\u001b[0m line \u001b[0;36m1\n\u001b[0;32m----> <a href='vscode-notebook-cell:/home/dkeni/Projects/advent-of-code/day_3/part_1/test.ipynb#X15sZmlsZQ%3D%3D?line=0'>1</a>\u001b[0m (base_path\u001b[39m.\u001b[39;49mparents[\u001b[39m1\u001b[39;49m] \u001b[39m/\u001b[39m \u001b[39m\"\u001b[39m\u001b[39minput.txt\u001b[39m\u001b[39m\"\u001b[39m)\u001b[39m.\u001b[39mabsolute()\n",
      "File \u001b[0;32m~/miniconda3/envs/adventOfCode/lib/python3.12/pathlib.py:282\u001b[0m, in \u001b[0;36m_PathParents.__getitem__\u001b[0;34m(self, idx)\u001b[0m\n\u001b[1;32m    279\u001b[0m     \u001b[39mreturn\u001b[39;00m \u001b[39mtuple\u001b[39m(\u001b[39mself\u001b[39m[i] \u001b[39mfor\u001b[39;00m i \u001b[39min\u001b[39;00m \u001b[39mrange\u001b[39m(\u001b[39m*\u001b[39midx\u001b[39m.\u001b[39mindices(\u001b[39mlen\u001b[39m(\u001b[39mself\u001b[39m))))\n\u001b[1;32m    281\u001b[0m \u001b[39mif\u001b[39;00m idx \u001b[39m>\u001b[39m\u001b[39m=\u001b[39m \u001b[39mlen\u001b[39m(\u001b[39mself\u001b[39m) \u001b[39mor\u001b[39;00m idx \u001b[39m<\u001b[39m \u001b[39m-\u001b[39m\u001b[39mlen\u001b[39m(\u001b[39mself\u001b[39m):\n\u001b[0;32m--> 282\u001b[0m     \u001b[39mraise\u001b[39;00m \u001b[39mIndexError\u001b[39;00m(idx)\n\u001b[1;32m    283\u001b[0m \u001b[39mif\u001b[39;00m idx \u001b[39m<\u001b[39m \u001b[39m0\u001b[39m:\n\u001b[1;32m    284\u001b[0m     idx \u001b[39m+\u001b[39m\u001b[39m=\u001b[39m \u001b[39mlen\u001b[39m(\u001b[39mself\u001b[39m)\n",
      "\u001b[0;31mIndexError\u001b[0m: 1"
     ]
    }
   ],
   "source": [
    "base_path.absolute().parent"
   ]
  },
  {
   "cell_type": "code",
   "execution_count": 44,
   "metadata": {},
   "outputs": [
    {
     "ename": "FileNotFoundError",
     "evalue": "[Errno 2] No such file or directory: 'input.txt'",
     "output_type": "error",
     "traceback": [
      "\u001b[0;31m---------------------------------------------------------------------------\u001b[0m",
      "\u001b[0;31mFileNotFoundError\u001b[0m                         Traceback (most recent call last)",
      "\u001b[1;32m/home/dkeni/Projects/advent-of-code/day_3/part_1/test.ipynb Cell 7\u001b[0m line \u001b[0;36m1\n\u001b[0;32m----> <a href='vscode-notebook-cell:/home/dkeni/Projects/advent-of-code/day_3/part_1/test.ipynb#W3sZmlsZQ%3D%3D?line=0'>1</a>\u001b[0m \u001b[39mwith\u001b[39;00m \u001b[39mopen\u001b[39;49m(base_path\u001b[39m.\u001b[39;49mparent \u001b[39m/\u001b[39;49m \u001b[39m\"\u001b[39;49m\u001b[39minput.txt\u001b[39;49m\u001b[39m\"\u001b[39;49m, \u001b[39m\"\u001b[39;49m\u001b[39mr\u001b[39;49m\u001b[39m\"\u001b[39;49m) \u001b[39mas\u001b[39;00m f:\n\u001b[1;32m      <a href='vscode-notebook-cell:/home/dkeni/Projects/advent-of-code/day_3/part_1/test.ipynb#W3sZmlsZQ%3D%3D?line=1'>2</a>\u001b[0m     \u001b[39mfor\u001b[39;00m line_num, line \u001b[39min\u001b[39;00m \u001b[39menumerate\u001b[39m(f):\n\u001b[1;32m      <a href='vscode-notebook-cell:/home/dkeni/Projects/advent-of-code/day_3/part_1/test.ipynb#W3sZmlsZQ%3D%3D?line=2'>3</a>\u001b[0m         \u001b[39mif\u001b[39;00m line_num \u001b[39m==\u001b[39m \u001b[39m0\u001b[39m:\n",
      "File \u001b[0;32m~/miniconda3/envs/adventOfCode/lib/python3.12/site-packages/IPython/core/interactiveshell.py:310\u001b[0m, in \u001b[0;36m_modified_open\u001b[0;34m(file, *args, **kwargs)\u001b[0m\n\u001b[1;32m    303\u001b[0m \u001b[39mif\u001b[39;00m file \u001b[39min\u001b[39;00m {\u001b[39m0\u001b[39m, \u001b[39m1\u001b[39m, \u001b[39m2\u001b[39m}:\n\u001b[1;32m    304\u001b[0m     \u001b[39mraise\u001b[39;00m \u001b[39mValueError\u001b[39;00m(\n\u001b[1;32m    305\u001b[0m         \u001b[39mf\u001b[39m\u001b[39m\"\u001b[39m\u001b[39mIPython won\u001b[39m\u001b[39m'\u001b[39m\u001b[39mt let you open fd=\u001b[39m\u001b[39m{\u001b[39;00mfile\u001b[39m}\u001b[39;00m\u001b[39m by default \u001b[39m\u001b[39m\"\u001b[39m\n\u001b[1;32m    306\u001b[0m         \u001b[39m\"\u001b[39m\u001b[39mas it is likely to crash IPython. If you know what you are doing, \u001b[39m\u001b[39m\"\u001b[39m\n\u001b[1;32m    307\u001b[0m         \u001b[39m\"\u001b[39m\u001b[39myou can use builtins\u001b[39m\u001b[39m'\u001b[39m\u001b[39m open.\u001b[39m\u001b[39m\"\u001b[39m\n\u001b[1;32m    308\u001b[0m     )\n\u001b[0;32m--> 310\u001b[0m \u001b[39mreturn\u001b[39;00m io_open(file, \u001b[39m*\u001b[39;49margs, \u001b[39m*\u001b[39;49m\u001b[39m*\u001b[39;49mkwargs)\n",
      "\u001b[0;31mFileNotFoundError\u001b[0m: [Errno 2] No such file or directory: 'input.txt'"
     ]
    }
   ],
   "source": [
    "with open(base_path.absolute().parent / \"input.txt\", \"r\") as f:\n",
    "    for line_num, line in enumerate(f):\n",
    "        if line_num == 0:\n",
    "            prev_line = str([\".\" for _ in prev_line])"
   ]
  },
  {
   "cell_type": "code",
   "execution_count": 13,
   "metadata": {},
   "outputs": [
    {
     "name": "stdout",
     "output_type": "stream",
     "text": [
      "deque(['1'], maxlen=3)\n",
      "deque(['1', '2'], maxlen=3)\n",
      "deque(['1', '2', '3'], maxlen=3)\n",
      "deque(['2', '3', '4'], maxlen=3)\n",
      "deque(['3', '4', '5'], maxlen=3)\n"
     ]
    }
   ],
   "source": [
    "from collections import deque\n",
    "\n",
    "q = deque[str](maxlen=3)\n",
    "q.append(\"1\")\n",
    "print(q)\n",
    "q.append(\"2\")\n",
    "print(q)\n",
    "q.append(\"3\")\n",
    "print(q)\n",
    "q.append(\"4\")\n",
    "print(q)\n",
    "q.append(\"5\")\n",
    "print(q)"
   ]
  },
  {
   "cell_type": "code",
   "execution_count": 36,
   "metadata": {},
   "outputs": [
    {
     "name": "stdout",
     "output_type": "stream",
     "text": [
      "!\"#$%&'()*+,-./:;<=>?@[\\]^_`{|}~\n"
     ]
    }
   ],
   "source": [
    "print(string.punctuation)"
   ]
  },
  {
   "cell_type": "code",
   "execution_count": 66,
   "metadata": {},
   "outputs": [
    {
     "name": "stdout",
     "output_type": "stream",
     "text": [
      "'.' appeared 15341 times, it is punctuation\n",
      "'2' appeared 357 times, it is not punctuation\n",
      "'4' appeared 360 times, it is not punctuation\n",
      "'7' appeared 356 times, it is not punctuation\n",
      "'6' appeared 351 times, it is not punctuation\n",
      "'3' appeared 384 times, it is not punctuation\n",
      "'8' appeared 361 times, it is not punctuation\n",
      "'9' appeared 379 times, it is not punctuation\n",
      "'5' appeared 360 times, it is not punctuation\n",
      "'1' appeared 391 times, it is not punctuation\n",
      "'\n",
      "' appeared 140 times, it is not punctuation\n",
      "'*' appeared 386 times, it is punctuation\n",
      "'0' appeared 220 times, it is not punctuation\n",
      "'@' appeared 46 times, it is punctuation\n",
      "'#' appeared 41 times, it is punctuation\n",
      "'-' appeared 40 times, it is punctuation\n",
      "'=' appeared 43 times, it is punctuation\n",
      "'/' appeared 35 times, it is punctuation\n",
      "'+' appeared 45 times, it is punctuation\n",
      "'%' appeared 38 times, it is punctuation\n",
      "'$' appeared 33 times, it is punctuation\n",
      "'&' appeared 33 times, it is punctuation\n"
     ]
    }
   ],
   "source": [
    "from collections import Counter\n",
    "\n",
    "with open(base_path.absolute().parent / \"input.txt\", \"r\") as f:\n",
    "    text = f.read()\n",
    "\n",
    "\n",
    "counter = Counter(text)\n",
    "\n",
    "for k, v in counter.items():\n",
    "    print(f\"'{k}' appeared {v} times, it is {\"not \" if k not in string.punctuation else \"\"}punctuation\")\n",
    "# print(counter.items())"
   ]
  },
  {
   "cell_type": "code",
   "execution_count": null,
   "metadata": {},
   "outputs": [],
   "source": [
    "def convert_symbols(line: str, char_set: str = string.punctuation.replace(\".\", \"\"), to: str = \"s\") -> str:\n",
    "    def convert_symbol(c: str):\n",
    "        if c in char_set:\n",
    "            return \"s\"\n",
    "        else:\n",
    "            return c\n",
    "\n",
    "    ret_line = \"\".join([convert_symbol(c) for c in line])\n",
    "\n",
    "    return ret_line\n",
    "\n"
   ]
  },
  {
   "cell_type": "code",
   "execution_count": 68,
   "metadata": {},
   "outputs": [
    {
     "data": {
      "text/plain": [
       "'0123456789'"
      ]
     },
     "execution_count": 68,
     "metadata": {},
     "output_type": "execute_result"
    }
   ],
   "source": [
    "string.digits"
   ]
  },
  {
   "cell_type": "code",
   "execution_count": 67,
   "metadata": {},
   "outputs": [
    {
     "name": "stdout",
     "output_type": "stream",
     "text": [
      "'.' appeared 15341 times, it is punctuation\n",
      "'2' appeared 357 times, it is not punctuation\n",
      "'4' appeared 360 times, it is not punctuation\n",
      "'7' appeared 356 times, it is not punctuation\n",
      "'6' appeared 351 times, it is not punctuation\n",
      "'3' appeared 384 times, it is not punctuation\n",
      "'8' appeared 361 times, it is not punctuation\n",
      "'9' appeared 379 times, it is not punctuation\n",
      "'5' appeared 360 times, it is not punctuation\n",
      "'1' appeared 391 times, it is not punctuation\n",
      "'\n",
      "' appeared 140 times, it is not punctuation\n",
      "'s' appeared 740 times, it is not punctuation\n",
      "'0' appeared 220 times, it is not punctuation\n"
     ]
    }
   ],
   "source": [
    "with open(base_path.absolute().parent / \"input.txt\", \"r\") as f:\n",
    "    text = convert_symbols(f.read())\n",
    "\n",
    "\n",
    "counter = Counter(text)\n",
    "\n",
    "for k, v in counter.items():\n",
    "    print(f\"'{k}' appeared {v} times, it is {\"not \" if k not in string.punctuation else \"\"}punctuation\")"
   ]
  }
 ],
 "metadata": {
  "kernelspec": {
   "display_name": "adventOfCode",
   "language": "python",
   "name": "python3"
  },
  "language_info": {
   "codemirror_mode": {
    "name": "ipython",
    "version": 3
   },
   "file_extension": ".py",
   "mimetype": "text/x-python",
   "name": "python",
   "nbconvert_exporter": "python",
   "pygments_lexer": "ipython3",
   "version": "3.12.0"
  }
 },
 "nbformat": 4,
 "nbformat_minor": 2
}
